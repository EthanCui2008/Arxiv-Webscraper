{
  "cells": [
    {
      "cell_type": "code",
      "execution_count": 1,
      "metadata": {
        "id": "q6Du69zZhOrw"
      },
      "outputs": [],
      "source": [
        "import requests\n",
        "import tarfile\n",
        "import io\n",
        "from io import BytesIO\n",
        "import re\n",
        "import os\n",
        "import json\n",
        "import fitz\n",
        "import ast\n",
        "import time\n"
      ]
    },
    {
      "cell_type": "code",
      "execution_count": 6,
      "metadata": {
        "colab": {
          "base_uri": "https://localhost:8080/"
        },
        "id": "61Zq6Oo0KRqk",
        "outputId": "424aa8fd-172f-4c00-c7ca-155ca28f3d60"
      },
      "outputs": [
        {
          "data": {
            "text/plain": [
              "True"
            ]
          },
          "execution_count": 6,
          "metadata": {},
          "output_type": "execute_result"
        }
      ],
      "source": [
        "from dotenv import load_dotenv\n",
        "load_dotenv('Key.env')"
      ]
    },
    {
      "cell_type": "code",
      "execution_count": 7,
      "metadata": {
        "colab": {
          "base_uri": "https://localhost:8080/"
        },
        "id": "yqvcXNP2Gxcx",
        "outputId": "f46747ca-89bb-41ae-c632-8f3cc10da882"
      },
      "outputs": [],
      "source": [
        "from openai import OpenAI\n",
        "client = OpenAI(\n",
        "    #Creates a client class\n",
        "        api_key=os.environ.get(\"API_KEY\"),\n",
        "    )"
      ]
    },
    {
      "cell_type": "code",
      "execution_count": 8,
      "metadata": {
        "id": "3DSo81hjfVWw"
      },
      "outputs": [],
      "source": [
        "from bs4 import BeautifulSoup\n",
        "\n",
        "url = \"https://arxiv.org/search/?query=large+language+models&searchtype=all&source=header\"\n",
        "\n",
        "response = requests.get(url)\n",
        "pdf_source_links = []\n",
        "\n",
        "# Check if the request was successful\n",
        "# Scrapes first 50 LLM papers from the URL above\n",
        "if response.status_code != 200:\n",
        "    raise Exception(\"Request Failed!\")\n",
        "\n",
        "soup = BeautifulSoup(response.content, \"html.parser\")\n",
        "links = [a.get('href') for a in soup.find_all('a', href=True)]\n",
        "\n",
        "for link in links:\n",
        "    if link.startswith(\"https://arxiv.org/pdf\"):\n",
        "        pdf_source_links.append(link)"
      ]
    },
    {
      "cell_type": "code",
      "execution_count": 9,
      "metadata": {
        "id": "SlT4NmgOnmpp"
      },
      "outputs": [],
      "source": [
        "def is_valid_python_code(code_str):\n",
        "    try:\n",
        "        ast.parse(code_str)\n",
        "        return True\n",
        "    except SyntaxError:\n",
        "        return False"
      ]
    },
    {
      "cell_type": "code",
      "execution_count": 13,
      "metadata": {
        "id": "exvexagRFX9M"
      },
      "outputs": [],
      "source": [
        "def process_pdf(url):\n",
        "    response = requests.get(url)\n",
        "\n",
        "    if response.status_code != 200:\n",
        "        raise Exception(\"Request Failed!\")\n",
        "\n",
        "    # Open the PDF file with PyMuPDF directly from the in-memory bytes\n",
        "    pdf_document = fitz.open(stream=BytesIO(response.content), filetype='pdf')\n",
        "\n",
        "    # Extract text from each page and store it in a string\n",
        "    pdf_text = \"\"\n",
        "    for page_num in range(len(pdf_document)):\n",
        "        page = pdf_document[page_num]\n",
        "        pdf_text += page.get_text()\n",
        "\n",
        "    # Optionally, encode the string as UTF-8\n",
        "    pdf_text_utf8 = pdf_text.encode('utf-8').decode('utf-8')\n",
        "\n",
        "    # Close the PDF document\n",
        "    pdf_document.close()\n",
        "    return pdf_text_utf8\n",
        "\n",
        "def grab_authors(pdf):\n",
        "    #no good solution, simply grabs the first few hundred characters and hopes all the authors are in that area, has already failed so far, let's improve on this later\n",
        "    intro = pdf[:1500]\n",
        "    #prompts gpt [possibly just hard code this solutoin, honestly just doing this for practice]\n",
        "\n",
        "    valid_syntax = True\n",
        "    loop_count = 3\n",
        "    while(valid_syntax):\n",
        "        loop_count -= 1\n",
        "        if(loop_count == 0):\n",
        "          #To prevent an infinite loop\n",
        "          return False\n",
        "\n",
        "        chat_completion = client.chat.completions.create(\n",
        "            messages=[\n",
        "                {\n",
        "                    \"role\": \"user\",\n",
        "                    \"content\": \"Without any extra explanation text, find all authors and the organizations they work for, then sort them into a dictionary\" + intro,\n",
        "                }\n",
        "            ],\n",
        "            model=\"gpt-3.5-turbo\",\n",
        "        )\n",
        "\n",
        "        valid_syntax = not is_valid_python_code(chat_completion.choices[0].message.content)\n",
        "\n",
        "    #AST will automatically throw an error if GPT's response is deemed bad\n",
        "    return ast.literal_eval(chat_completion.choices[0].message.content)"
      ]
    },
    {
      "cell_type": "code",
      "execution_count": 14,
      "metadata": {
        "colab": {
          "base_uri": "https://localhost:8080/"
        },
        "id": "JyIjyEY6jGMJ",
        "outputId": "f9ee3196-e6ba-40fc-86ab-1a704691945b"
      },
      "outputs": [
        {
          "name": "stdout",
          "output_type": "stream",
          "text": [
            "Success! 2408.16769 2.1384806632995605\n",
            "Success! 2408.16756 2.0002357959747314\n",
            "Success! 2408.16753 0.7691285610198975\n",
            "Success! 2408.16749 2.628912925720215\n",
            "Success! 2408.16740 0.6930596828460693\n",
            "Success! 2408.16730 2.818835973739624\n",
            "Success! 2408.16700 11.638014316558838\n",
            "Success! 2408.16673 1.9014201164245605\n",
            "Success! 2408.16612 4.120687246322632\n",
            "Success! 2408.16601 2.4146924018859863\n",
            "Success! 2408.16586 0.8991751670837402\n",
            "Success! 2408.16518 2.26721453666687\n",
            "Success! 2408.16502 2.1832878589630127\n",
            "Success! 2408.16498 2.286269187927246\n",
            "Success! 2408.16482 1.1681289672851562\n",
            "Success! 2408.16465 4.541899681091309\n",
            "Success! 2408.16440 0.7185852527618408\n",
            "Success! 2408.16423 1.816413402557373\n",
            "Success! 2408.16400 1.45489501953125\n",
            "Success! 2408.16357 2.610882043838501\n",
            "Success! 2408.16345 1.8995857238769531\n",
            "Success! 2408.16326 1.8486905097961426\n",
            "Success! 2408.16312 1.3202803134918213\n",
            "Success! 2408.16304 1.8989272117614746\n",
            "Success! 2408.16296 2.1751792430877686\n",
            "Success! 2408.16276 0.8246800899505615\n",
            "Success! 2408.16264 2.0801901817321777\n",
            "Success! 2408.16224 0.9932055473327637\n",
            "Success! 2408.16221 4.573149681091309\n",
            "Success! 2408.16219 2.066786289215088\n",
            "Success! 2408.16213 6.710872650146484\n",
            "Success! 2408.16180 1.5364711284637451\n",
            "Success! 2408.16176 6.568481683731079\n",
            "Success! 2408.16173 1.0224909782409668\n",
            "Success! 2408.16163 0.6085617542266846\n",
            "Success! 2408.16151 0.9722499847412109\n",
            "Success! 2408.16100 2.565420150756836\n",
            "Success! 2408.16098 5.923935651779175\n",
            "Success! 2408.16081 1.1460416316986084\n",
            "Success! 2408.16073 1.3315551280975342\n",
            "Success! 2408.16032 1.1868979930877686\n",
            "Success! 2408.16031 1.393634557723999\n",
            "Success! 2408.16028 1.0396265983581543\n",
            "Success! 2408.16021 2.861140251159668\n",
            "Success! 2408.16018 1.309903860092163\n",
            "Success! 2408.16012 2.068753957748413\n",
            "Success! 2408.15998 2.778005599975586\n",
            "Success! 2408.15971 2.6425533294677734\n",
            "Success! 2408.15966 5.625269412994385\n",
            "Success! 2408.15950 8.673957586288452\n"
          ]
        }
      ],
      "source": [
        "json_file_path = 'Arxiv_demo.json'\n",
        "\n",
        "with open(json_file_path, 'r') as file:\n",
        "    data = json.load(file)\n",
        "\n",
        "for link in pdf_source_links:\n",
        "\n",
        "    start_time = time.time()\n",
        "\n",
        "    pdf_text = process_pdf(link)\n",
        "    authors = grab_authors(pdf_text)\n",
        "\n",
        "    #Failsafe so a batch won't get ruined\n",
        "    if not authors:\n",
        "      print(\"Failed! \" + link[22:])\n",
        "      continue\n",
        "    \n",
        "    #add to json\n",
        "    data[link[22:]] = {\"authors\": authors}\n",
        "\n",
        "    #confirmation of functionality\n",
        "    end_time = time.time()\n",
        "    print(\"Success! \" + link[22:] + \" \"  + str(end_time - start_time))\n",
        "\n",
        "with open(json_file_path, 'w') as file:\n",
        "    json.dump(data, file, indent=4)"
      ]
    },
    {
      "cell_type": "code",
      "execution_count": 16,
      "metadata": {},
      "outputs": [],
      "source": [
        "import sqlite3\n",
        "\n",
        "connection = sqlite3.connect('paper-table')\n",
        "\n",
        "cursor = connection.cursor()\n",
        "\n",
        "cursor.execute"
      ]
    }
  ],
  "metadata": {
    "colab": {
      "provenance": []
    },
    "kernelspec": {
      "display_name": "Python 3",
      "name": "python3"
    },
    "language_info": {
      "codemirror_mode": {
        "name": "ipython",
        "version": 3
      },
      "file_extension": ".py",
      "mimetype": "text/x-python",
      "name": "python",
      "nbconvert_exporter": "python",
      "pygments_lexer": "ipython3",
      "version": "3.12.5"
    }
  },
  "nbformat": 4,
  "nbformat_minor": 0
}
